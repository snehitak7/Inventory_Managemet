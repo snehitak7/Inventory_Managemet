{
  "nbformat": 4,
  "nbformat_minor": 0,
  "metadata": {
    "colab": {
      "name": "Inventory.ipynb",
      "provenance": []
    },
    "kernelspec": {
      "name": "python3",
      "display_name": "Python 3"
    },
    "language_info": {
      "name": "python"
    }
  },
  "cells": [
    {
      "cell_type": "code",
      "metadata": {
        "id": "RDtkOkC_P1oH"
      },
      "source": [
        "items = {\n",
        "    101:{\"Name\": \"Oranges\",       \"Price\": 70,  \"Qty\": 50,  \"category\": \"Produce\"},\n",
        "    102:{\"Name\": \"Apples\",        \"Price\": 98,  \"Qty\": 130, \"category\": \"Produce\"},\n",
        "    103:{\"Name\": \"Bananas\",       \"Price\": 45,  \"Qty\": 145, \"category\": \"Produce\"},\n",
        "    104:{\"Name\": \"Lettuce\",       \"Price\": 34,  \"Qty\": 53,  \"category\": \"Produce\"},\n",
        "    105:{\"Name\": \"Tomatoes\",      \"Price\": 67,  \"Qty\": 60,  \"category\": \"Produce\"},\n",
        "    106:{\"Name\": \"Squash\",        \"Price\": 23,  \"Qty\": 70,  \"category\": \"Produce\"},\n",
        "    107:{\"Name\": \"Celery\",        \"Price\": 21,  \"Qty\": 13,  \"category\": \"Produce\"},\n",
        "    108:{\"Name\": \"Cucumber\",      \"Price\": 28,  \"Qty\": 49,  \"category\": \"Produce\"},\n",
        "    109:{\"Name\": \"Mushrooms\",     \"Price\": 78,  \"Qty\": 67,  \"category\": \"Produce\"},\n",
        "    110:{\"Name\": \"Milk\",          \"Price\": 65,  \"Qty\": 120, \"category\": \"Dairy\"},\n",
        "    111:{\"Name\": \"Cheese\",        \"Price\": 120, \"Qty\": 230, \"category\": \"Dairy\"},\n",
        "    112:{\"Name\": \"Eggs\",          \"Price\": 72,  \"Qty\": 231, \"category\": \"Dairy\"},\n",
        "    113:{\"Name\": \"Cottage Cheese\",\"Price\": 240, \"Qty\": 156, \"category\": \"Dairy\"},\n",
        "    114:{\"Name\": \"Sour cream\",    \"Price\": 210, \"Qty\": 78,  \"category\": \"Dairy\"},\n",
        "    115:{\"Name\": \"Yogurt\",        \"Price\": 55,  \"Qty\": 94,  \"category\": \"Dairy\"},\n",
        "    116:{\"Name\": \"Beef\",          \"Price\": 350, \"Qty\": 52,  \"category\": \"Meat\"},\n",
        "    117:{\"Name\": \"Poultry\",       \"Price\": 290, \"Qty\": 70,  \"category\": \"Meat\"},\n",
        "    118:{\"Name\": \"Ham\",           \"Price\": 250, \"Qty\": 25,  \"category\": \"Meat\"},\n",
        "    119:{\"Name\": \"Seafood\",       \"Price\": 430, \"Qty\": 98,  \"category\": \"Meat\"},\n",
        "    120:{\"Name\": \"Soda\",          \"Price\": 150, \"Qty\": 180, \"category\": \"Drinks\"},\n",
        "    121:{\"Name\": \"Juice\",         \"Price\": 40,  \"Qty\": 60,  \"category\": \"Drinks\"},\n",
        "    122:{\"Name\": \"Coffee\",        \"Price\": 230, \"Qty\": 345, \"category\": \"Drinks\"},\n",
        "    123:{\"Name\": \"Tea\",           \"Price\": 140, \"Qty\": 329, \"category\": \"Drinkse\"},\n",
        "    124:{\"Name\": \"Water\",         \"Price\": 30,  \"Qty\": 230, \"category\": \"Drinks\"},\n",
        "    125:{\"Name\": \"Noodles\",       \"Price\": 50,  \"Qty\": 89,  \"category\": \"Pasta\"},\n",
        "    126:{\"Name\": \"Rice\",          \"Price\": 970, \"Qty\": 100, \"category\": \"Pasta\"},\n",
        "    \n",
        "}\n"
      ],
      "execution_count": 7,
      "outputs": []
    },
    {
      "cell_type": "code",
      "metadata": {
        "id": "66RjGSxgWDmE"
      },
      "source": [
        "import json"
      ],
      "execution_count": 8,
      "outputs": []
    },
    {
      "cell_type": "code",
      "metadata": {
        "id": "XGZjkDgcWGQI"
      },
      "source": [
        "js = json.dumps(items)"
      ],
      "execution_count": 9,
      "outputs": []
    },
    {
      "cell_type": "code",
      "metadata": {
        "colab": {
          "base_uri": "https://localhost:8080/"
        },
        "id": "0J_TqyALWXJu",
        "outputId": "10a29720-86d6-4080-f493-130b999fc803"
      },
      "source": [
        "fd = open(\"items.json\", \"w\")\n",
        "fd.write(js)\n",
        "fd.close"
      ],
      "execution_count": 10,
      "outputs": [
        {
          "output_type": "execute_result",
          "data": {
            "text/plain": [
              "<function TextIOWrapper.close>"
            ]
          },
          "metadata": {},
          "execution_count": 10
        }
      ]
    },
    {
      "cell_type": "markdown",
      "metadata": {
        "id": "JOYcl7n0boyf"
      },
      "source": [
        "Items Bill\n"
      ]
    },
    {
      "cell_type": "code",
      "metadata": {
        "colab": {
          "base_uri": "https://localhost:8080/"
        },
        "id": "kMhI40rCWymG",
        "outputId": "19e75567-65cc-4764-fb00-f7fd0ef2cb49"
      },
      "source": [
        "ui_product = int(input(\"Enter product ID: \"))\n",
        "ui_qty = int(input(\"Enter Quantity: \"))\n",
        "\n",
        "product = items.get(ui_product)\n",
        "\n",
        "if product:\n",
        "  print(\"Product Name: \", product.get(\"Name\"))\n",
        "  print(\"Price per unit: \", product.get(\"Price\"))\n",
        "  print(\"Total amount to pay: \", ui_qty*product.get(\"Price\"))\n",
        "  product[\"Qty\"] -= ui_qty\n",
        "\n",
        "else:\n",
        "  print(\"Item not found\")"
      ],
      "execution_count": 11,
      "outputs": [
        {
          "output_type": "stream",
          "name": "stdout",
          "text": [
            "Enter product ID: 119\n",
            "Enter Quantity: 54\n",
            "Product Name:  Seafood\n",
            "Price per unit:  430\n",
            "Total amount to pay:  23220\n"
          ]
        }
      ]
    },
    {
      "cell_type": "markdown",
      "metadata": {
        "id": "PF6ga8-Mcr_9"
      },
      "source": [
        "# New Section"
      ]
    },
    {
      "cell_type": "markdown",
      "metadata": {
        "id": "64VbDvW2Yl7M"
      },
      "source": [
        "Read Data"
      ]
    },
    {
      "cell_type": "code",
      "metadata": {
        "id": "55e7Q5e1YkQU"
      },
      "source": [
        "fd = open(\"items.json\", \"r\")\n",
        "r = fd.read()\n",
        "fd.close()"
      ],
      "execution_count": 12,
      "outputs": []
    },
    {
      "cell_type": "code",
      "metadata": {
        "colab": {
          "base_uri": "https://localhost:8080/"
        },
        "id": "O4MYDIEYYyvJ",
        "outputId": "9bf77c81-f815-498b-d486-669412bb6a9a"
      },
      "source": [
        "items"
      ],
      "execution_count": 18,
      "outputs": [
        {
          "output_type": "execute_result",
          "data": {
            "text/plain": [
              "{101: {'Name': 'Oranges', 'Price': 70, 'Qty': 50, 'category': 'Produce'},\n",
              " 102: {'Name': 'Apples', 'Price': 98, 'Qty': 130, 'category': 'Produce'},\n",
              " 103: {'Name': 'Bananas', 'Price': 45, 'Qty': 145, 'category': 'Produce'},\n",
              " 104: {'Name': 'Lettuce', 'Price': 34, 'Qty': 53, 'category': 'Produce'},\n",
              " 105: {'Name': 'Tomatoes', 'Price': 67, 'Qty': 60, 'category': 'Produce'},\n",
              " 106: {'Name': 'Squash', 'Price': 23, 'Qty': 70, 'category': 'Produce'},\n",
              " 107: {'Name': 'Celery', 'Price': 21, 'Qty': 13, 'category': 'Produce'},\n",
              " 108: {'Name': 'Cucumber', 'Price': 28, 'Qty': 49, 'category': 'Produce'},\n",
              " 109: {'Name': 'Mushrooms', 'Price': 78, 'Qty': 67, 'category': 'Produce'},\n",
              " 110: {'Name': 'Milk', 'Price': 65, 'Qty': 120, 'category': 'Dairy'},\n",
              " 111: {'Name': 'Cheese', 'Price': 120, 'Qty': 230, 'category': 'Dairy'},\n",
              " 112: {'Name': 'Eggs', 'Price': 72, 'Qty': 231, 'category': 'Dairy'},\n",
              " 113: {'Name': 'Cottage Cheese',\n",
              "  'Price': 240,\n",
              "  'Qty': 156,\n",
              "  'category': 'Dairy'},\n",
              " 114: {'Name': 'Sour cream', 'Price': 210, 'Qty': 78, 'category': 'Dairy'},\n",
              " 115: {'Name': 'Yogurt', 'Price': 55, 'Qty': 94, 'category': 'Dairy'},\n",
              " 116: {'Name': 'Beef', 'Price': 350, 'Qty': 52, 'category': 'Meat'},\n",
              " 117: {'Name': 'Poultry', 'Price': 290, 'Qty': 70, 'category': 'Meat'},\n",
              " 118: {'Name': 'Ham', 'Price': 250, 'Qty': 25, 'category': 'Meat'},\n",
              " 119: {'Name': 'Seafood', 'Price': 430, 'Qty': 44, 'category': 'Meat'},\n",
              " 120: {'Name': 'Soda', 'Price': 150, 'Qty': 180, 'category': 'Drinks'},\n",
              " 121: {'Name': 'Juice', 'Price': 40, 'Qty': 60, 'category': 'Drinks'},\n",
              " 122: {'Name': 'Coffee', 'Price': 230, 'Qty': 345, 'category': 'Drinks'},\n",
              " 123: {'Name': 'Tea', 'Price': 140, 'Qty': 329, 'category': 'Drinkse'},\n",
              " 124: {'Name': 'Water', 'Price': 30, 'Qty': 230, 'category': 'Drinks'},\n",
              " 125: {'Name': 'Noodles', 'Price': 50, 'Qty': 89, 'category': 'Pasta'},\n",
              " 126: {'Name': 'Rice', 'Price': 970, 'Qty': 100, 'category': 'Pasta'}}"
            ]
          },
          "metadata": {},
          "execution_count": 18
        }
      ]
    },
    {
      "cell_type": "markdown",
      "metadata": {
        "id": "_m0obh8sZlCR"
      },
      "source": [
        "Add items"
      ]
    },
    {
      "cell_type": "code",
      "metadata": {
        "colab": {
          "base_uri": "https://localhost:8080/"
        },
        "id": "CcMb_vK8Y38o",
        "outputId": "0079e116-6bf0-4db1-d459-bba862e6e836"
      },
      "source": [
        "Item_ID = input(\"Enter the product ID: \")\n",
        "Name = input(\"Enter the name of the item: \")\n",
        "Price = int(input(\"Enter the price per item: \"))\n",
        "Qty = int(input(\"Enter the quantity of the products you want to add: \"))\n",
        "Category = input(\"Enter the category of the product: \")\n",
        "items[Item_ID] = {\"Name\": Name, \"Price\": Price, \"Qty\": Qty, \"category\": Category}\n",
        "\n",
        "js = json.dumps(items)\n",
        "fd = open(\"items.json\", \"w\")\n",
        "fd.write(js)\n",
        "fd.close()"
      ],
      "execution_count": 19,
      "outputs": [
        {
          "name": "stdout",
          "output_type": "stream",
          "text": [
            "Enter the product ID: 109\n",
            "Enter the name of the item: Mushrooms\n",
            "Enter the price per item: 78\n",
            "Enter the quantity of the products you want to add: 34\n",
            "Enter the category of the product: Produce\n"
          ]
        }
      ]
    }
  ]
}